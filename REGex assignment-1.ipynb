{
 "cells": [
  {
   "cell_type": "markdown",
   "metadata": {},
   "source": [
    "\n",
    "# TASK 1\n",
    "# ISHIKA SAHU"
   ]
  },
  {
   "cell_type": "code",
   "execution_count": 6,
   "metadata": {},
   "outputs": [
    {
     "name": "stdout",
     "output_type": "stream",
     "text": [
      "5 5 5 5 5 \r\n",
      "5 5 5 5 \r\n",
      "5 5 5 \r\n",
      "5 5 \r\n",
      "5 \r\n"
     ]
    }
   ],
   "source": [
    "#1.\n",
    "rows=5\n",
    "num=rows\n",
    "for i in range(rows,0,-1):\n",
    "    for j in range(0,i):\n",
    "        print(num,end=' ')\n",
    "    print(\"\\r\")    "
   ]
  },
  {
   "cell_type": "code",
   "execution_count": 8,
   "metadata": {},
   "outputs": [
    {
     "name": "stdout",
     "output_type": "stream",
     "text": [
      "0 1 2 3 4 5 \r\n",
      "0 1 2 3 4 \r\n",
      "0 1 2 3 \r\n",
      "0 1 2 \r\n",
      "0 1 \r\n"
     ]
    }
   ],
   "source": [
    "#2\n",
    "for i in range(0,5):\n",
    "    for j in range(0,6-i):\n",
    "        print(j,end=' ')\n",
    "    print(\"\\r\")    \n",
    "\n"
   ]
  },
  {
   "cell_type": "code",
   "execution_count": 27,
   "metadata": {},
   "outputs": [
    {
     "name": "stdout",
     "output_type": "stream",
     "text": [
      "1 \r\n",
      "3 3 \r\n",
      "5 5 5 \r\n",
      "7 7 7 7 \r\n",
      "9 9 9 9 9 \r\n"
     ]
    }
   ],
   "source": [
    "#3\n",
    "k=1\n",
    "for i in range(1,10,2):\n",
    "    for j in range(0,k):\n",
    "        print(i,end=' ')\n",
    "    k=k+1\n",
    "    \n",
    "    print(\"\\r\")    "
   ]
  },
  {
   "cell_type": "code",
   "execution_count": 31,
   "metadata": {},
   "outputs": [
    {
     "name": "stdout",
     "output_type": "stream",
     "text": [
      "1 \n",
      "2 1 \n",
      "3 2 1 \n",
      "4 3 2 1 \n",
      "5 4 3 2 1 \n"
     ]
    }
   ],
   "source": [
    "#4\n",
    "rows=6\n",
    "for i in range(1,rows):\n",
    "    for j in range(i,0,-1):\n",
    "        print(j,end=' ')\n",
    "    print(\"\")    "
   ]
  },
  {
   "cell_type": "code",
   "execution_count": 32,
   "metadata": {},
   "outputs": [
    {
     "name": "stdout",
     "output_type": "stream",
     "text": [
      "1 \n",
      "3 2 \n",
      "6 5 4 \n",
      "10 9 8 7 \n"
     ]
    }
   ],
   "source": [
    "#5\n",
    "start=1\n",
    "stop=2\n",
    "current=stop\n",
    "for i in range(2,6):\n",
    "    for j in range(start,stop):\n",
    "        current-=1\n",
    "        print(current,end=' ')\n",
    "    print(\"\")\n",
    "    start=stop\n",
    "    stop+=i\n",
    "    current=stop"
   ]
  },
  {
   "cell_type": "code",
   "execution_count": 2,
   "metadata": {},
   "outputs": [
    {
     "name": "stdout",
     "output_type": "stream",
     "text": [
      "1 \n",
      "1 1 \n",
      "1 2 1 \n",
      "1 3 3 1 \n",
      "1 4 6 4 1 \n",
      "1 5 10 10 5 1 \n",
      "1 6 15 20 15 6 1 \n"
     ]
    }
   ],
   "source": [
    "#6\n",
    "def pascal_triangle(size):\n",
    "    for i in range(0,size):\n",
    "        for j in range(0,i+1):\n",
    "            print(decide_num(i,j),end=\" \")\n",
    "        print()\n",
    "        \n",
    "def decide_num(n,k):\n",
    "    num=1\n",
    "    if k>n-k:\n",
    "        k=n-k\n",
    "    for i in range(0,k):\n",
    "        num=num*(n-i)\n",
    "        num=num//(i+1)\n",
    "    return num \n",
    "rows=7\n",
    "pascal_triangle(rows)"
   ]
  },
  {
   "cell_type": "code",
   "execution_count": 5,
   "metadata": {},
   "outputs": [
    {
     "name": "stdout",
     "output_type": "stream",
     "text": [
      "1 2 3 4 5 \n",
      "2 2 3 4 5 \n",
      "3 3 3 4 5 \n",
      "4 4 4 4 5 \n",
      "5 5 5 5 5 \n"
     ]
    }
   ],
   "source": [
    "#7\n",
    "rows=5\n",
    "for i in range(1,rows+1):\n",
    "    for j in range(1,rows+1):\n",
    "        if (j>i):\n",
    "            print(j,end=\" \")\n",
    "        else:\n",
    "            print(i,end=\" \")\n",
    "    print()"
   ]
  },
  {
   "cell_type": "code",
   "execution_count": 6,
   "metadata": {},
   "outputs": [
    {
     "name": "stdout",
     "output_type": "stream",
     "text": [
      "1 \n",
      "2 4 \n",
      "3 6 9 \n",
      "4 8 12 16 \n",
      "5 10 15 20 25 \n",
      "6 12 18 24 30 36 \n",
      "7 14 21 28 35 42 49 \n",
      "8 16 24 32 40 48 56 64 \n"
     ]
    }
   ],
   "source": [
    "#8\n",
    "rows=8\n",
    "for i in range(1,rows+1):\n",
    "    for j in range(1,i+1):\n",
    "        square=i*j\n",
    "        print(square,end=\" \")\n",
    "    print()    "
   ]
  },
  {
   "cell_type": "code",
   "execution_count": 18,
   "metadata": {},
   "outputs": [
    {
     "name": "stdout",
     "output_type": "stream",
     "text": [
      "  * * * * * * * * * * * \n",
      "    * * * * * * * * * \n",
      "      * * * * * * * \n",
      "        * * * * * \n",
      "          * * * \n",
      "            * \n"
     ]
    }
   ],
   "source": [
    "#9\n",
    "n=6\n",
    "for i in range(n):\n",
    "    for j in range(i+1):\n",
    "        print(' ',end=\" \")\n",
    "    for j in range(i,n-1):\n",
    "        print(\"*\",end=\" \")   \n",
    "    for j in range(i,n):\n",
    "        print(\"*\",end=\" \")\n",
    "        \n",
    "    print()    "
   ]
  },
  {
   "cell_type": "code",
   "execution_count": 19,
   "metadata": {},
   "outputs": [
    {
     "name": "stdout",
     "output_type": "stream",
     "text": [
      "            *   \n",
      "           *  *   \n",
      "          *  *  *   \n",
      "         *  *  *  *   \n",
      "        *  *  *  *  *   \n",
      "       *  *  *  *  *  *   \n",
      "      *  *  *  *  *  *  *   \n"
     ]
    }
   ],
   "source": [
    "#10\n",
    "size=7\n",
    "m=(2*size)-2\n",
    "for i in range(0,size):\n",
    "    for j in range(0,m):\n",
    "        print(end=\" \")\n",
    "    m=m-1\n",
    "    for j in range(0,i+1):\n",
    "        print(\"* \",end=' ')\n",
    "    print(\" \")    "
   ]
  },
  {
   "cell_type": "code",
   "execution_count": 20,
   "metadata": {},
   "outputs": [
    {
     "name": "stdout",
     "output_type": "stream",
     "text": [
      "* \n",
      "* * \n",
      "* * * \n",
      "* * * * \n",
      "* * * * * \n",
      "* * * * * * \n",
      "    \n",
      "    \n",
      "* * * * * *  \n",
      "* * * * *  \n",
      "* * * *  \n",
      "* * *  \n",
      "* *  \n",
      "*  \n"
     ]
    }
   ],
   "source": [
    "#11\n",
    "for i in range(n):\n",
    "    for j in range(i+1):\n",
    "        print(\"*\",end=\" \")\n",
    "    print()    \n",
    "for i in range(2):\n",
    "    for j in range(2):\n",
    "        print(\" \",end=\" \")\n",
    "    print()    \n",
    "for i in range(n):\n",
    "    for k in range(i,n):\n",
    "        print(\"*\",end=\" \")\n",
    "    print(\" \")    \n",
    "        \n",
    "        "
   ]
  },
  {
   "cell_type": "code",
   "execution_count": 25,
   "metadata": {},
   "outputs": [
    {
     "name": "stdout",
     "output_type": "stream",
     "text": [
      "* \n",
      "* * \n",
      "* * * \n",
      "* * * * \n",
      "* * * * * \n",
      "* * * * \n",
      "* * * \n",
      "* * \n",
      "* \n"
     ]
    }
   ],
   "source": [
    "#12\n",
    "n=5\n",
    "for i in range(n-1):\n",
    "    for j in range(i+1):\n",
    "        print(\"*\",end=\" \")\n",
    "    print()\n",
    "for i in range(n):       \n",
    "    for k in range(i,n):\n",
    "        print(\"*\",end=\" \")\n",
    "    print()    \n",
    "    "
   ]
  },
  {
   "cell_type": "code",
   "execution_count": 26,
   "metadata": {},
   "outputs": [
    {
     "name": "stdout",
     "output_type": "stream",
     "text": [
      "          * \n",
      "        * * \n",
      "      * * * \n",
      "    * * * * \n",
      "  * * * * * \n",
      "    * * * * \n",
      "      * * * \n",
      "        * * \n",
      "          * \n"
     ]
    }
   ],
   "source": [
    "#13\n",
    "n=5\n",
    "for i in range(n-1):\n",
    "    for j in range(i,n):\n",
    "        print(\" \",end=\" \")\n",
    "    for j in range(i+1):\n",
    "        print(\"*\",end=\" \")\n",
    "    print()\n",
    "    \n",
    "for i in range(n):\n",
    "    for j in range(i+1):\n",
    "        print(\" \",end=\" \")\n",
    "    for j in range(i,n):\n",
    "        print(\"*\",end=\" \")\n",
    "        \n",
    "    print()    "
   ]
  },
  {
   "cell_type": "code",
   "execution_count": 68,
   "metadata": {},
   "outputs": [
    {
     "name": "stdout",
     "output_type": "stream",
     "text": [
      "* * * * * \n",
      " * * * * \n",
      "  * * * \n",
      "   * * \n",
      "    * \n",
      "    * \n",
      "   * * \n",
      "  * * * \n",
      " * * * * \n",
      "* * * * * \n"
     ]
    }
   ],
   "source": [
    "#14\n",
    "rows=5\n",
    "i=0\n",
    "while i<=rows-1:\n",
    "    j=0\n",
    "    while j<i:\n",
    "        print('',end=\" \")\n",
    "        j+=1\n",
    "    k=i\n",
    "    while k<=rows-1:\n",
    "        print(\"*\",end=\" \")\n",
    "        k+=1\n",
    "    print()\n",
    "    i+=1\n",
    "i=rows-1\n",
    "while i>=0:\n",
    "    j=0\n",
    "    while j<i:\n",
    "        print('',end=\" \")\n",
    "        j+=1\n",
    "    k=i\n",
    "    while k<=rows-1:\n",
    "        print(\"*\",end=\" \")\n",
    "        k+=1\n",
    "    print('')\n",
    "    i-=1\n",
    "\n"
   ]
  },
  {
   "cell_type": "code",
   "execution_count": 66,
   "metadata": {},
   "outputs": [
    {
     "name": "stdout",
     "output_type": "stream",
     "text": [
      "****************\n",
      "*******__*******\n",
      "******____******\n",
      "*****______*****\n",
      "****________****\n",
      "***__________***\n",
      "**____________**\n",
      "*______________*\n"
     ]
    }
   ],
   "source": [
    "#15\n",
    "n=7\n",
    "rows=16\n",
    "print(\"*\" * rows )   \n",
    "for i in range(n):\n",
    "  \n",
    "    for j in range(i,n):\n",
    "        print(\"*\",end=\"\")\n",
    "    for j in range(i+1):\n",
    "        print(\"_\",end=\"\")\n",
    "  \n",
    "    for j in range(i+1):\n",
    "        print(\"_\",end=\"\")\n",
    "    for j in range(i,n):\n",
    "        print(\"*\",end=\"\")\n",
    "    print()  \n",
    "    "
   ]
  },
  {
   "cell_type": "code",
   "execution_count": null,
   "metadata": {},
   "outputs": [],
   "source": []
  }
 ],
 "metadata": {
  "kernelspec": {
   "display_name": "Python 3",
   "language": "python",
   "name": "python3"
  },
  "language_info": {
   "codemirror_mode": {
    "name": "ipython",
    "version": 3
   },
   "file_extension": ".py",
   "mimetype": "text/x-python",
   "name": "python",
   "nbconvert_exporter": "python",
   "pygments_lexer": "ipython3",
   "version": "3.8.5"
  }
 },
 "nbformat": 4,
 "nbformat_minor": 4
}
